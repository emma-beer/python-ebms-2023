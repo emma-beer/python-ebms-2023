{
 "cells": [
  {
   "cell_type": "markdown",
   "id": "f34ffd10-e0aa-4ce0-bec4-12b12c28ff9f",
   "metadata": {
    "editable": true,
    "slideshow": {
     "slide_type": ""
    },
    "tags": []
   },
   "source": [
    "### two-ocean-layer-EBM-2022\n",
    "\n",
    "This code numerically solves the two layer energy balance model (EBM) described in Beer, Eisenman, Wagner and Fine (2023, hereafter BEWF23; see reference below). This code was adapted from the code EBM_fast_WE15.m which numerically solves the model described in Sec. 2b of Wagner & Eisenman (2015; see reference below). Changes to the code include removing an albedo change with surface temperture, adding a deeper ocean layer to the model, and changing parameter values.\n",
    "\n",
    "This code allows some parameter values to be input. All other parameter values are from BEWF23 (Table 1). The parameters to be input are: \n",
    "F, which is a vector in years representing the radiative forcing (W m^-2),\n",
    "kv_w, vertical heat flux coefficient when T > 0 (W m^-2 K^-1),\n",
    "kv_i, vertical heat flux coefficient when T < 0 (W m^-2 K^-1),\n",
    "Ds, diffusion coefficient for heat transport in mixed layer (W m^-2 K^-1)\n",
    "Dd, diffusion coefficient for heat transport in deep layer (W m^-2 K^-1)\n",
    "A,  OLR when T = 0 (W m^-2)\n",
    "\n",
    "This code runs a simulation for the number of input values in vector F in years with 5 years/timestep using a spatial resolution of 800 gridboxes, equally spaced in x=sin(lat), between the equator and pole.\n",
    "\n",
    "Emma Beer (ejbeer17@gmail.com), Adapted from two_ocean_layer_EBM_2022 to python Oct 2023.\n",
    "\n",
    "References: \n",
    "E. Beer, I. Eisenman, T.J.W. Wagner and E.C. Fine (2023). A possible hysteresis in the Arctic Ocean due to release of subsurface heat during sea ice retreat. Journal of Physical Oceanography.\n",
    "\n",
    "T.J.W. Wagner and I. Eisenman (2015). How climate model complexity influences sea ice stability. Journal of Climate."
   ]
  },
  {
   "cell_type": "code",
   "execution_count": 7,
   "id": "7f19ae90-349c-4cb9-adde-598a1daaf282",
   "metadata": {
    "editable": true,
    "slideshow": {
     "slide_type": ""
    },
    "tags": []
   },
   "outputs": [],
   "source": [
    "import numpy as np\n",
    "import math\n",
    "from numpy.linalg import inv"
   ]
  },
  {
   "cell_type": "code",
   "execution_count": null,
   "id": "b743e2c7-e6f0-46ae-80d7-287d91aa7320",
   "metadata": {
    "editable": true,
    "slideshow": {
     "slide_type": ""
    },
    "tags": []
   },
   "outputs": [],
   "source": [
    "def two_ocean_layer_EBM_2022(F_in,kv_w,kv_i,Ds,Dd,A):\n",
    "# This function returns x, and the final year of t, T, Td, Fb\n",
    "\n",
    "    ##Model parameters (BEWF23, Table 1) \n",
    "    B  = 2.1           # OLR temperature dependence (W m^-2 K^-1)\n",
    "    cw = 9.8*(50/75)   # ocean mixed layer heat capacity (W yr m^-2 K^-1), depth 50m\n",
    "    cwd = 9.8*(600/75) # ocean deep layer heat capacity (W yr m^-2 K^-1), depth 600m\n",
    "    S0 = 420           # insolation at equator  (W m^-2)\n",
    "    S2 = 240           # insolation spatial dependence (W m^-2)\n",
    "    a0 = 0.7           # ice-free co-albedo at equator\n",
    "    a2 = 0.1           # ice=free co-albedo spatial dependence\n",
    "    Tf = -2            # freezing point (celcius)\n",
    "\n",
    "    ## Time stepping parameters\n",
    "    n = 800         # grid resolution (number of points between equator and pole)\n",
    "    nt = 0.2        # time resolution (time steps per year) - can be small since time integration is implicit\n",
    "    dur = len(F_in) # duration of run in years\n",
    "    dt = 1/nt       # time step\n",
    "    \n",
    "    ##Spatial Grid\n",
    "    dx = 1/n  # grid box width\n",
    "    x = np.arange(dx/2,1,dx)  # grid\n",
    "    \n",
    "    ##Diffusion Operator (BEWF22, Appendix A)\n",
    "    xb = np.arange(dx,1.0,dx)\n",
    "    lambda_val = Ds / dx**2 * (1 - xb**2)\n",
    "    L1 = np.concatenate(([0], -lambda_val))\n",
    "    L2 = np.concatenate((-lambda_val, [0]))\n",
    "    L3 = -L1 - L2\n",
    "    diffop = -np.diag(L3) - np.diag(L2[:n-1], k=1) - np.diag(L1[1:n], k=-1)\n",
    "    \n",
    "    ##Diffusion Operator for deep layer (BEWF22, Appendix A)\n",
    "    lambda_vald = Dd / dx**2 * (1 - xb**2)\n",
    "    L1d = np.concatenate(([0], -lambda_vald))\n",
    "    L2d = np.concatenate((-lambda_vald, [0]))\n",
    "    L3d = -L1d - L2d\n",
    "    diffopd = -np.diag(L3d) - np.diag(L2d[:n-1], k=1) - np.diag(L1d[1:n], k=-1)\n",
    "    \n",
    "    ## Model definitions and initial conditions\n",
    "    S = S0 - S2*x**2         # insolation\n",
    "    aw = a0 - a2*x**2        # co-albedo for open water\n",
    "    T = -29*x**2 - x + 24    # IC for surface temperature\n",
    "    Td = -15*x**2 - 2*x + 20 # IC for deep layer temperature\n",
    "    \n",
    "    ##Set up output arrays, saving nt timesteps/year\n",
    "    allT = np.zeros((int(dur*nt), n))\n",
    "    allTd = np.zeros((int(dur*nt), n))\n",
    "    allFb = np.zeros((int(dur*nt), n))\n",
    "    t = np.linspace(0,dur,int(dur*nt))\n",
    "\n",
    "    ##Numerical integration over time using implicit difference and\n",
    "    ## over x using central difference (through diffop and diffopd)\n",
    "    for i in range(0, int(dur*nt)):\n",
    "        F = F_in[math.floor(i/nt)]\n",
    "        kv = kv_w*(T>Tf) + kv_i*(T<=Tf)\n",
    "        Fb = kv*(Td-Tf) - kv*(T-Tf)*(T>Tf)\n",
    "        allFb[i,:] = Fb\n",
    "\n",
    "        ##Rewrite equations (1) and (4) in BEWF22 in the format:\n",
    "        # AA*T(n+1) = BB*T(n) + CC*Td(n+1) + dd\n",
    "        # EE*Td(n+1) = FF*Td(n) + GG*T(n+1)\n",
    "        I = np.eye(n)\n",
    "        AA = I + dt/cw*(B*I - diffop + kv_w*I*(T>Tf))\n",
    "        BB = I\n",
    "        CC = dt/cw*kv*I\n",
    "        dd = dt/cw*(aw*S - A + F)\n",
    "        EE = I + dt/cwd*(-diffopd + kv*I)\n",
    "        FF = I\n",
    "        GG = dt/cwd*kv_w*I*(T>Tf)\n",
    "\n",
    "        EEi = inv(EE)\n",
    "        T = Tf + np.linalg.solve(AA - CC@EEi@GG,BB@(T-Tf) + dd + CC@EEi@FF@(Td-Tf))\n",
    "        Td = Tf + EEi@FF@(Td-Tf) + EEi@GG@(T-Tf)\n",
    "        allT[i,:] = T\n",
    "        allTd[i,:] = Td\n",
    "\n",
    "        if (i+1)/nt % 100 == 0:\n",
    "            print(f'Year {int((i+1)/nt)} complete')\n",
    "    \n",
    "    # Output only the final year\n",
    "    Tout = allT\n",
    "    Tdout = allTd\n",
    "    Fbout = allFb\n",
    "\n",
    "    return x, t, Tout, Tdout, Fbout"
   ]
  }
 ],
 "metadata": {
  "kernelspec": {
   "display_name": "Python 3",
   "language": "python",
   "name": "python3"
  },
  "language_info": {
   "codemirror_mode": {
    "name": "ipython",
    "version": 3
   },
   "file_extension": ".py",
   "mimetype": "text/x-python",
   "name": "python",
   "nbconvert_exporter": "python",
   "pygments_lexer": "ipython3",
   "version": "3.8.8"
  }
 },
 "nbformat": 4,
 "nbformat_minor": 5
}
